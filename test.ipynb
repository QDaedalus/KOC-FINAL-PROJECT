{
 "cells": [
  {
   "cell_type": "code",
   "execution_count": 1,
   "metadata": {},
   "outputs": [],
   "source": [
    "import pandas as pd\n",
    "import numpy as np"
   ]
  },
  {
   "cell_type": "code",
   "execution_count": 9,
   "metadata": {},
   "outputs": [],
   "source": [
    "import phonenumbers\n",
    "\n",
    "number = \"+905386191669\""
   ]
  },
  {
   "cell_type": "code",
   "execution_count": 11,
   "metadata": {},
   "outputs": [
    {
     "name": "stdout",
     "output_type": "stream",
     "text": [
      "Turkcell\n"
     ]
    }
   ],
   "source": [
    "from phonenumbers import carrier\n",
    "service_provider = phonenumbers.parse(number, \"TR\")\n",
    "print(carrier.name_for_number(service_provider, \"en\"))"
   ]
  },
  {
   "cell_type": "code",
   "execution_count": 1,
   "metadata": {},
   "outputs": [
    {
     "name": "stdout",
     "output_type": "stream",
     "text": [
      "106\n"
     ]
    }
   ],
   "source": [
    "class Player:\n",
    "    def __init__(self,x,y):\n",
    "        self.x= x\n",
    "        self.y= y\n",
    "        self.health=100\n",
    "    def move(self,dx,dy):\n",
    "        self.x+=dx\n",
    "        self.y+=dy\n",
    "    def damage(self,pts):\n",
    "        self.health -=pts\n",
    "a = Player(2,3)\n",
    "a.damage(2)\n",
    "a.move(1,2)\n",
    "\n",
    "print(a.x+a.y+a.health)\n"
   ]
  },
  {
   "cell_type": "code",
   "execution_count": null,
   "metadata": {},
   "outputs": [],
   "source": []
  }
 ],
 "metadata": {
  "kernelspec": {
   "display_name": "Python 3.7.8 64-bit",
   "language": "python",
   "name": "python3"
  },
  "language_info": {
   "codemirror_mode": {
    "name": "ipython",
    "version": 3
   },
   "file_extension": ".py",
   "mimetype": "text/x-python",
   "name": "python",
   "nbconvert_exporter": "python",
   "pygments_lexer": "ipython3",
   "version": "3.7.8 (tags/v3.7.8:4b47a5b6ba, Jun 28 2020, 08:53:46) [MSC v.1916 64 bit (AMD64)]"
  },
  "orig_nbformat": 4,
  "vscode": {
   "interpreter": {
    "hash": "c5e09ae7cde168aac51a056aeaff1b3b4677c80d58b8583abd99d031d5deadf2"
   }
  }
 },
 "nbformat": 4,
 "nbformat_minor": 2
}
